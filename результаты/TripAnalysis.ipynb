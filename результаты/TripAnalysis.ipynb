{
 "cells": [
  {
   "cell_type": "markdown",
   "id": "75859b30-d1bf-4e1e-806c-648aca6d8dcb",
   "metadata": {},
   "source": [
    "# %% [markdown]\n",
    "\n",
    " ## Pre-requisites & Auxiliary Functions"
   ]
  },
  {
   "cell_type": "code",
   "execution_count": null,
   "id": "f94f8f2a-f18a-4161-93ea-249c405b142c",
   "metadata": {},
   "outputs": [],
   "source": [
    "# %%\n",
    "\n",
    "# ! pip install -r requirements.txt\n",
    "## imports\n",
    "import itertools\n",
    "import numpy as np\n",
    "import pandas as pd\n",
    "import geopandas as gpd\n",
    "import pyarrow.parquet as pq\n",
    "import matplotlib.pyplot as plt\n",
    "import folium\n",
    "import os\n",
    "from datetime import time\n",
    "\n",
    "dataset_dir = os.path.join(os.environ[\"BIG_DATA\"], \"input\")\n",
    "\n",
    "# auxiliary functions\n",
    "## data processing methods\n",
    "def check_missing_val(data):\n",
    "    print(\"Checking attributes that have missing values...\")\n",
    "    for col in data.columns:\n",
    "        if data[col].isnull().sum() != 0:\n",
    "            print(\"{} : {}\".format(col, data[col].isnull().sum()))\n",
    "\n",
    "\n",
    "def check_uniqueness(data):\n",
    "    print(\"Checking uniqueness of each attributes ...\")\n",
    "    for col in data.columns:\n",
    "        print(\"{} : {} -> {}\".format(col, data[col].is_unique, len(data[col].unique())))\n",
    "\n",
    "\n",
    "def get_quantile(data, col_name, q_val, inter):\n",
    "    return np.percentile(data[col_name], q_val, method=inter)\n",
    "\n",
    "\n",
    "def iqr_test(data, col_name, inter):\n",
    "    qu = get_quantile(data, 'quantity', 75, inter)\n",
    "    ql = get_quantile(data, 'quantity', 25, inter)\n",
    "    diff = qu - ql\n",
    "    U = qu + 1.5 * diff\n",
    "    L = ql - 1.5 * diff\n",
    "    return U, L\n",
    "\n",
    "\n",
    "def remove_outliers(data, col_name, inter):\n",
    "    \"\"\"filter the outliers of the numerical data\n",
    "\n",
    "    Args:\n",
    "        data (_type_): _description_\n",
    "        col_name (_type_): _description_\n",
    "        inter (_type_): _description_\n",
    "\n",
    "    Returns:\n",
    "        _type_: _description_\n",
    "    \"\"\"\n",
    "    U, L = iqr_test(data, col_name, inter)\n",
    "    return data[data[col_name] >= L | data[col_name] <= U]\n",
    "\n",
    "\n",
    "def get_kmeans_categories(centroid, centers):\n",
    "    \"\"\"Returns the correct class when centroid is given\n",
    "\n",
    "    Args:\n",
    "        centroid (float): centroid assigned to given order\n",
    "        centers (float): all centroids given by KNN\n",
    "\n",
    "    Returns:\n",
    "        str: specified distance range\n",
    "    \"\"\"\n",
    "    if centroid == centers[0]:\n",
    "        return 'short_range'\n",
    "    elif centroid == centers[1]:\n",
    "        return 'mid_range'\n",
    "    else:\n",
    "        return 'long_range'\n",
    "\n",
    "\n",
    "def plot_confusion_matrix(cm, classes, normalize=False, title='Confusion matrix', cmap=plt.cm.Blues):\n",
    "    \"\"\"This function prints and plots the confusion matrix.\n",
    "    Normalization can be applied by setting `normalize=True`.\n",
    "    \"\"\"\n",
    "    if normalize:\n",
    "        cm = cm.astype('float') / cm.sum(axis=1)[:, np.newaxis]\n",
    "        print(\"Normalized confusion matrix\")\n",
    "    else:\n",
    "        print('Confusion matrix, without normalization')\n",
    "\n",
    "    print(cm)\n",
    "\n",
    "    plt.imshow(cm, interpolation='nearest', cmap=cmap)\n",
    "    plt.title(title)\n",
    "    plt.colorbar()\n",
    "    tick_marks = np.arange(len(classes))\n",
    "    plt.xticks(tick_marks, classes, rotation=45)\n",
    "    plt.yticks(tick_marks, classes)\n",
    "\n",
    "    fmt = '.2f' if normalize else 'd'\n",
    "    thresh = cm.max() / 2.\n",
    "    for i, j in itertools.product(range(cm.shape[0]), range(cm.shape[1])):\n",
    "        plt.text(j, i, format(cm[i, j], fmt),\n",
    "                 horizontalalignment=\"center\",\n",
    "                 color=\"white\" if cm[i, j] > thresh else \"black\")\n",
    "\n",
    "    plt.tight_layout()\n",
    "    plt.ylabel('True label')\n",
    "    plt.xlabel('Predicted label')"
   ]
  },
  {
   "cell_type": "code",
   "execution_count": null,
   "id": "8350a56a-3e77-48d1-b36d-cf9aaab1b96f",
   "metadata": {},
   "outputs": [],
   "source": [
    "# %%\n",
    "\n",
    "fhvhv_tripdata_2021_01 = pq.read_table(\n",
    "    f'{dataset_dir}\\\\fhvhv_tripdata_2021-01.parquet')\n",
    "fhvhv_tripdata_2021_01 = fhvhv_tripdata_2021_01.to_pandas()"
   ]
  },
  {
   "cell_type": "code",
   "execution_count": null,
   "id": "8e3405a0-67cd-49e4-ab2a-4ca316fc0e1f",
   "metadata": {},
   "outputs": [
    {
     "name": "stdout",
     "output_type": "stream",
     "text": [
      "<class 'pandas.core.frame.DataFrame'>\n",
      "RangeIndex: 11908468 entries, 0 to 11908467\n",
      "Data columns (total 24 columns):\n",
      " #   Column                Dtype         \n",
      "---  ------                -----         \n",
      " 0   hvfhs_license_num     object        \n",
      " 1   dispatching_base_num  object        \n",
      " 2   originating_base_num  object        \n",
      " 3   request_datetime      datetime64[us]\n",
      " 4   on_scene_datetime     datetime64[us]\n",
      " 5   pickup_datetime       datetime64[us]\n",
      " 6   dropoff_datetime      datetime64[us]\n",
      " 7   PULocationID          int64         \n",
      " 8   DOLocationID          int64         \n",
      " 9   trip_miles            float64       \n",
      " 10  trip_time             int64         \n",
      " 11  base_passenger_fare   float64       \n",
      " 12  tolls                 float64       \n",
      " 13  bcf                   float64       \n",
      " 14  sales_tax             float64       \n",
      " 15  congestion_surcharge  float64       \n",
      " 16  airport_fee           float64       \n",
      " 17  tips                  float64       \n",
      " 18  driver_pay            float64       \n",
      " 19  shared_request_flag   object        \n",
      " 20  shared_match_flag     object        \n",
      " 21  access_a_ride_flag    object        \n",
      " 22  wav_request_flag      object        \n",
      " 23  wav_match_flag        object        \n",
      "dtypes: datetime64[us](4), float64(9), int64(3), object(8)\n",
      "memory usage: 2.1+ GB\n"
     ]
    }
   ],
   "source": [
    "# %%\n",
    "\n",
    "fhvhv_tripdata_2021_01.info()"
   ]
  },
  {
   "cell_type": "code",
   "execution_count": null,
   "id": "03aabd8d-a78d-4a90-be96-9cb5423d6dbc",
   "metadata": {},
   "outputs": [],
   "source": [
    "# %%\n",
    "\n",
    "# we see those flags are boolean values, can be represented as 0 and 1\n",
    "fhvhv_tripdata_2021_01['shared_request_flag'] = fhvhv_tripdata_2021_01['shared_request_flag'].apply(\n",
    "    lambda x: 1 if x == 'Y' else 0)\n",
    "fhvhv_tripdata_2021_01['shared_match_flag'] = fhvhv_tripdata_2021_01['shared_match_flag'].apply(\n",
    "    lambda x: 1 if x == 'Y' else 0)\n",
    "fhvhv_tripdata_2021_01['access_a_ride_flag'] = fhvhv_tripdata_2021_01['access_a_ride_flag'].apply(\n",
    "    lambda x: 1 if x == 'Y' else 0)\n",
    "fhvhv_tripdata_2021_01['wav_request_flag'] = fhvhv_tripdata_2021_01['wav_request_flag'].apply(\n",
    "    lambda x: 1 if x == 'Y' else 0)\n",
    "fhvhv_tripdata_2021_01['wav_match_flag'] = fhvhv_tripdata_2021_01['wav_match_flag'].apply(\n",
    "    lambda x: 1 if x == 'Y' else 0)"
   ]
  },
  {
   "cell_type": "code",
   "execution_count": null,
   "id": "fb2a2928-393b-4387-ba8f-5098a3ec08b0",
   "metadata": {},
   "outputs": [
    {
     "name": "stdout",
     "output_type": "stream",
     "text": [
      "<class 'pandas.core.frame.DataFrame'>\n",
      "RangeIndex: 365 entries, 0 to 364\n",
      "Data columns (total 21 columns):\n",
      " #   Column            Non-Null Count  Dtype  \n",
      "---  ------            --------------  -----  \n",
      " 0   name              365 non-null    object \n",
      " 1   address           365 non-null    object \n",
      " 2   resolvedAddress   365 non-null    object \n",
      " 3   datetime          365 non-null    object \n",
      " 4   temp              365 non-null    float64\n",
      " 5   feelslike         365 non-null    float64\n",
      " 6   dew               365 non-null    float64\n",
      " 7   humidity          365 non-null    float64\n",
      " 8   precip            365 non-null    float64\n",
      " 9   precipprob        365 non-null    int64  \n",
      " 10  preciptype        152 non-null    object \n",
      " 11  snow              365 non-null    float64\n",
      " 12  snowdepth         365 non-null    float64\n",
      " 13  windgust          292 non-null    float64\n",
      " 14  windspeed         365 non-null    float64\n",
      " 15  winddir           365 non-null    float64\n",
      " 16  sealevelpressure  365 non-null    float64\n",
      " 17  cloudcover        365 non-null    float64\n",
      " 18  visibility        365 non-null    float64\n",
      " 19  uvindex           365 non-null    int64  \n",
      " 20  severerisk        0 non-null      float64\n",
      "dtypes: float64(14), int64(2), object(5)\n",
      "memory usage: 60.0+ KB\n"
     ]
    }
   ],
   "source": [
    "# %%\n",
    "\n",
    "nyc_weather_2021 = pd.read_csv(\n",
    "    f'{dataset_dir}\\\\nyc 2021-01-01 to 2021-12-31.csv')\n",
    "nyc_weather_2021.info()"
   ]
  },
  {
   "cell_type": "code",
   "execution_count": null,
   "id": "12055e25-a5a6-425d-a2e0-ace2695d126d",
   "metadata": {},
   "outputs": [
    {
     "name": "stdout",
     "output_type": "stream",
     "text": [
      "<class 'pandas.core.frame.DataFrame'>\n",
      "RangeIndex: 265 entries, 0 to 264\n",
      "Data columns (total 4 columns):\n",
      " #   Column        Non-Null Count  Dtype \n",
      "---  ------        --------------  ----- \n",
      " 0   LocationID    265 non-null    int64 \n",
      " 1   Borough       265 non-null    object\n",
      " 2   Zone          264 non-null    object\n",
      " 3   service_zone  263 non-null    object\n",
      "dtypes: int64(1), object(3)\n",
      "memory usage: 8.4+ KB\n"
     ]
    }
   ],
   "source": [
    "# %%\n",
    "\n",
    "taxi_zone_lookup = pd.read_csv(f'{dataset_dir}\\\\taxi_zone_lookup.csv')\n",
    "taxi_zone_lookup.info()"
   ]
  },
  {
   "cell_type": "code",
   "execution_count": null,
   "id": "35447e13-d978-4f97-98d6-492756b3627e",
   "metadata": {},
   "outputs": [
    {
     "name": "stdout",
     "output_type": "stream",
     "text": [
      "Checking attributes that have missing values...\n",
      "originating_base_num : 3206079\n",
      "request_datetime : 4\n",
      "on_scene_datetime : 3200015\n",
      "airport_fee : 11902548\n"
     ]
    }
   ],
   "source": [
    "# %%\n",
    "\n",
    "check_missing_val(fhvhv_tripdata_2021_01)"
   ]
  },
  {
   "cell_type": "code",
   "execution_count": null,
   "id": "c69be231-1b0c-4b5c-9ed0-a0631183eca5",
   "metadata": {},
   "outputs": [
    {
     "name": "stdout",
     "output_type": "stream",
     "text": [
      "Checking attributes that have missing values...\n",
      "preciptype : 213\n",
      "windgust : 73\n",
      "severerisk : 365\n"
     ]
    }
   ],
   "source": [
    "# %%\n",
    "\n",
    "check_missing_val(nyc_weather_2021)"
   ]
  },
  {
   "cell_type": "code",
   "execution_count": null,
   "id": "6e883b6c-d181-4aee-9db8-0e57b41d62b4",
   "metadata": {},
   "outputs": [
    {
     "name": "stdout",
     "output_type": "stream",
     "text": [
      "Checking attributes that have missing values...\n",
      "Zone : 1\n",
      "service_zone : 2\n"
     ]
    }
   ],
   "source": [
    "# %%\n",
    "\n",
    "check_missing_val(taxi_zone_lookup)"
   ]
  },
  {
   "cell_type": "code",
   "execution_count": null,
   "id": "c7fed1c7-a521-430d-9fdd-c9db1a114823",
   "metadata": {},
   "outputs": [
    {
     "name": "stdout",
     "output_type": "stream",
     "text": [
      "JFK Airport\n",
      "LaGuardia Airport\n",
      "Newark Airport\n"
     ]
    }
   ],
   "source": [
    "# %%\n",
    "\n",
    "for idx in taxi_zone_lookup.Zone.value_counts().index.to_list():\n",
    "    if idx.find('Airport') != -1:\n",
    "        print(idx)"
   ]
  },
  {
   "cell_type": "code",
   "execution_count": null,
   "id": "3bbe4e64-f20a-4d40-9652-02f7f45b3a4a",
   "metadata": {},
   "outputs": [
    {
     "data": {
      "text/html": [
       "<div>\n",
       "<style scoped>\n",
       "    .dataframe tbody tr th:only-of-type {\n",
       "        vertical-align: middle;\n",
       "    }\n",
       "\n",
       "    .dataframe tbody tr th {\n",
       "        vertical-align: top;\n",
       "    }\n",
       "\n",
       "    .dataframe thead th {\n",
       "        text-align: right;\n",
       "    }\n",
       "</style>\n",
       "<table border=\"1\" class=\"dataframe\">\n",
       "  <thead>\n",
       "    <tr style=\"text-align: right;\">\n",
       "      <th></th>\n",
       "      <th>LocationID</th>\n",
       "      <th>Borough</th>\n",
       "      <th>Zone</th>\n",
       "      <th>service_zone</th>\n",
       "    </tr>\n",
       "  </thead>\n",
       "  <tbody>\n",
       "    <tr>\n",
       "      <th>0</th>\n",
       "      <td>1</td>\n",
       "      <td>EWR</td>\n",
       "      <td>Newark Airport</td>\n",
       "      <td>EWR</td>\n",
       "    </tr>\n",
       "    <tr>\n",
       "      <th>131</th>\n",
       "      <td>132</td>\n",
       "      <td>Queens</td>\n",
       "      <td>JFK Airport</td>\n",
       "      <td>Airports</td>\n",
       "    </tr>\n",
       "    <tr>\n",
       "      <th>137</th>\n",
       "      <td>138</td>\n",
       "      <td>Queens</td>\n",
       "      <td>LaGuardia Airport</td>\n",
       "      <td>Airports</td>\n",
       "    </tr>\n",
       "  </tbody>\n",
       "</table>\n",
       "</div>"
      ],
      "text/plain": [
       "     LocationID Borough               Zone service_zone\n",
       "0             1     EWR     Newark Airport          EWR\n",
       "131         132  Queens        JFK Airport     Airports\n",
       "137         138  Queens  LaGuardia Airport     Airports"
      ]
     },
     "execution_count": 11,
     "metadata": {},
     "output_type": "execute_result"
    }
   ],
   "source": [
    "# %%\n",
    "\n",
    "taxi_zone_lookup[taxi_zone_lookup.Zone.isin(\n",
    "    ['Newark Airport', 'LaGuardia Airport', 'JFK Airport'])]  # airport_fee has sth to do with location ID 1,132,138"
   ]
  },
  {
   "cell_type": "code",
   "execution_count": null,
   "id": "f3acee22-b44c-4518-af9d-1315fa832e54",
   "metadata": {},
   "outputs": [],
   "source": [
    "# %%\n",
    "\n",
    "airport_ids = [1, 132, 138]"
   ]
  },
  {
   "cell_type": "code",
   "execution_count": null,
   "id": "ef283803-8e35-4e2c-8be5-ff2b1480399b",
   "metadata": {},
   "outputs": [
    {
     "name": "stdout",
     "output_type": "stream",
     "text": [
      "6852\n",
      "168695\n",
      "190456\n"
     ]
    }
   ],
   "source": [
    "# %%\n",
    "\n",
    "print(len(fhvhv_tripdata_2021_01[\n",
    "              fhvhv_tripdata_2021_01.PULocationID.isin(airport_ids) & fhvhv_tripdata_2021_01.DOLocationID.isin(\n",
    "                  airport_ids)]))\n",
    "print(len(fhvhv_tripdata_2021_01[\n",
    "              fhvhv_tripdata_2021_01.PULocationID.isin(airport_ids) & ~fhvhv_tripdata_2021_01.DOLocationID.isin(\n",
    "                  airport_ids)]))\n",
    "print(len(fhvhv_tripdata_2021_01[\n",
    "              ~fhvhv_tripdata_2021_01.PULocationID.isin(airport_ids) & fhvhv_tripdata_2021_01.DOLocationID.isin(\n",
    "                  airport_ids)]))"
   ]
  },
  {
   "cell_type": "code",
   "execution_count": null,
   "id": "113236eb-76b9-463a-ac32-f13f1017326d",
   "metadata": {},
   "outputs": [],
   "source": [
    "# %%\n",
    "\n",
    "fhvhv_tripdata_2021_01.loc[\n",
    "    fhvhv_tripdata_2021_01.PULocationID.isin(airport_ids) & fhvhv_tripdata_2021_01.DOLocationID.isin(\n",
    "        airport_ids), 'airport_fee'] = 6852 * [5]\n",
    "fhvhv_tripdata_2021_01.loc[\n",
    "    fhvhv_tripdata_2021_01.PULocationID.isin(airport_ids) & ~fhvhv_tripdata_2021_01.DOLocationID.isin(\n",
    "        airport_ids), 'airport_fee'] = 168695 * [2.5]\n",
    "fhvhv_tripdata_2021_01.loc[\n",
    "    ~fhvhv_tripdata_2021_01.PULocationID.isin(airport_ids) & fhvhv_tripdata_2021_01.DOLocationID.isin(\n",
    "        airport_ids), 'airport_fee'] = 190456 * [2.5]"
   ]
  },
  {
   "cell_type": "code",
   "execution_count": null,
   "id": "6c1ff055-ccb8-4057-ba91-f883369d2ffd",
   "metadata": {},
   "outputs": [
    {
     "name": "stderr",
     "output_type": "stream",
     "text": [
      "<ipython-input-15-5f5c54f77827>:2: FutureWarning: A value is trying to be set on a copy of a DataFrame or Series through chained assignment using an inplace method.\n",
      "The behavior will change in pandas 3.0. This inplace method will never work because the intermediate object on which we are setting values always behaves as a copy.\n",
      "\n",
      "For example, when doing 'df[col].method(value, inplace=True)', try using 'df.method({col: value}, inplace=True)' or df[col] = df[col].method(value) instead, to perform the operation inplace on the original object.\n",
      "\n",
      "\n",
      "  fhvhv_tripdata_2021_01['airport_fee'].fillna(value=0, inplace=True)\n"
     ]
    }
   ],
   "source": [
    "# %%\n",
    "\n",
    "fhvhv_tripdata_2021_01['airport_fee'].fillna(value=0, inplace=True)\n",
    "fhvhv_tripdata_2021_01.dropna(inplace=True)  # drop the other missing values"
   ]
  },
  {
   "cell_type": "code",
   "execution_count": null,
   "id": "06de6eae-1060-4507-b2fc-e54ca83e5277",
   "metadata": {},
   "outputs": [
    {
     "name": "stderr",
     "output_type": "stream",
     "text": [
      "<ipython-input-16-4ac8753a3c5c>:2: FutureWarning: A value is trying to be set on a copy of a DataFrame or Series through chained assignment using an inplace method.\n",
      "The behavior will change in pandas 3.0. This inplace method will never work because the intermediate object on which we are setting values always behaves as a copy.\n",
      "\n",
      "For example, when doing 'df[col].method(value, inplace=True)', try using 'df.method({col: value}, inplace=True)' or df[col] = df[col].method(value) instead, to perform the operation inplace on the original object.\n",
      "\n",
      "\n",
      "  nyc_weather_2021['windgust'].fillna(-1, inplace=True)\n"
     ]
    }
   ],
   "source": [
    "# %%\n",
    "\n",
    "nyc_weather_2021['windgust'].fillna(-1, inplace=True)\n",
    "windgust_data = nyc_weather_2021['windgust'].to_list()"
   ]
  },
  {
   "cell_type": "code",
   "execution_count": null,
   "id": "4d9badaa-3a0f-4c84-99b1-1051bb7dc029",
   "metadata": {},
   "outputs": [],
   "source": [
    "# %%\n",
    "\n",
    "# nyc_weather_2021['windgust'].fillna(method='ffill',inplace=True)\n",
    "for idx, num in enumerate(windgust_data):\n",
    "    if num == -1:\n",
    "        if idx == 0:\n",
    "            windgust_data[idx] = windgust_data[idx + 1]\n",
    "        elif idx == len(windgust_data) - 1:\n",
    "            windgust_data[idx] = windgust_data[idx - 1]\n",
    "        else:\n",
    "            if windgust_data[idx - 1] != -1 and windgust_data[idx + 1] != -1:\n",
    "                windgust_data[idx] = (windgust_data[idx - 1] + windgust_data[idx + 1]) / 2\n",
    "            else:\n",
    "                windgust_data[idx] = windgust_data[idx - 1] if windgust_data[idx - 1] != -1 else windgust_data[idx + 1]\n",
    "\n",
    "nyc_weather_2021['windgust'] = windgust_data"
   ]
  },
  {
   "cell_type": "code",
   "execution_count": null,
   "id": "a0815b77-4fac-4330-8f7b-318fc96e456c",
   "metadata": {},
   "outputs": [
    {
     "name": "stderr",
     "output_type": "stream",
     "text": [
      "<ipython-input-18-91fdb87413d6>:2: FutureWarning: A value is trying to be set on a copy of a DataFrame or Series through chained assignment using an inplace method.\n",
      "The behavior will change in pandas 3.0. This inplace method will never work because the intermediate object on which we are setting values always behaves as a copy.\n",
      "\n",
      "For example, when doing 'df[col].method(value, inplace=True)', try using 'df.method({col: value}, inplace=True)' or df[col] = df[col].method(value) instead, to perform the operation inplace on the original object.\n",
      "\n",
      "\n",
      "  nyc_weather_2021['preciptype'].fillna(value='rain', inplace=True)  # fill with mode, which is 'rain'\n"
     ]
    }
   ],
   "source": [
    "# %%\n",
    "\n",
    "nyc_weather_2021['preciptype'].fillna(value='rain', inplace=True)  # fill with mode, which is 'rain'"
   ]
  },
  {
   "cell_type": "code",
   "execution_count": null,
   "id": "c0863cfa-17f9-41ab-819a-11c0ef9a860b",
   "metadata": {},
   "outputs": [],
   "source": [
    "# %%\n",
    "\n",
    "nyc_weather_2021.drop(columns=['severerisk'], inplace=True)  # drop the useless column"
   ]
  },
  {
   "cell_type": "code",
   "execution_count": null,
   "id": "ab2303e7-0129-4598-8d8c-a52187af0c87",
   "metadata": {},
   "outputs": [
    {
     "data": {
      "text/html": [
       "<div>\n",
       "<style scoped>\n",
       "    .dataframe tbody tr th:only-of-type {\n",
       "        vertical-align: middle;\n",
       "    }\n",
       "\n",
       "    .dataframe tbody tr th {\n",
       "        vertical-align: top;\n",
       "    }\n",
       "\n",
       "    .dataframe thead th {\n",
       "        text-align: right;\n",
       "    }\n",
       "</style>\n",
       "<table border=\"1\" class=\"dataframe\">\n",
       "  <thead>\n",
       "    <tr style=\"text-align: right;\">\n",
       "      <th></th>\n",
       "      <th>LocationID</th>\n",
       "      <th>Borough</th>\n",
       "      <th>Zone</th>\n",
       "      <th>service_zone</th>\n",
       "    </tr>\n",
       "  </thead>\n",
       "  <tbody>\n",
       "    <tr>\n",
       "      <th>264</th>\n",
       "      <td>265</td>\n",
       "      <td>Unknown</td>\n",
       "      <td>NaN</td>\n",
       "      <td>NaN</td>\n",
       "    </tr>\n",
       "  </tbody>\n",
       "</table>\n",
       "</div>"
      ],
      "text/plain": [
       "     LocationID  Borough Zone service_zone\n",
       "264         265  Unknown  NaN          NaN"
      ]
     },
     "execution_count": 20,
     "metadata": {},
     "output_type": "execute_result"
    }
   ],
   "source": [
    "# %%\n",
    "\n",
    "taxi_zone_lookup[taxi_zone_lookup.Zone.isnull()]"
   ]
  },
  {
   "cell_type": "code",
   "execution_count": null,
   "id": "da4d317a-9ecf-4233-b980-d110aee460ce",
   "metadata": {},
   "outputs": [
    {
     "name": "stdout",
     "output_type": "stream",
     "text": [
      "<class 'geopandas.geodataframe.GeoDataFrame'>\n",
      "RangeIndex: 263 entries, 0 to 262\n",
      "Data columns (total 7 columns):\n",
      " #   Column      Non-Null Count  Dtype   \n",
      "---  ------      --------------  -----   \n",
      " 0   OBJECTID    263 non-null    int32   \n",
      " 1   Shape_Leng  263 non-null    float64 \n",
      " 2   Shape_Area  263 non-null    float64 \n",
      " 3   zone        263 non-null    object  \n",
      " 4   LocationID  263 non-null    int32   \n",
      " 5   borough     263 non-null    object  \n",
      " 6   geometry    263 non-null    geometry\n",
      "dtypes: float64(2), geometry(1), int32(2), object(2)\n",
      "memory usage: 12.5+ KB\n"
     ]
    }
   ],
   "source": [
    "# %%\n",
    "\n",
    "taxi_zones = gpd.read_file(f'{dataset_dir}\\\\taxi_zones\\\\taxi_zones.shp')\n",
    "taxi_zones.info()"
   ]
  },
  {
   "cell_type": "code",
   "execution_count": null,
   "id": "41de797d-c9ee-4959-8806-0f218a7849ac",
   "metadata": {},
   "outputs": [
    {
     "data": {
      "text/html": [
       "<div>\n",
       "<style scoped>\n",
       "    .dataframe tbody tr th:only-of-type {\n",
       "        vertical-align: middle;\n",
       "    }\n",
       "\n",
       "    .dataframe tbody tr th {\n",
       "        vertical-align: top;\n",
       "    }\n",
       "\n",
       "    .dataframe thead th {\n",
       "        text-align: right;\n",
       "    }\n",
       "</style>\n",
       "<table border=\"1\" class=\"dataframe\">\n",
       "  <thead>\n",
       "    <tr style=\"text-align: right;\">\n",
       "      <th></th>\n",
       "      <th>OBJECTID</th>\n",
       "      <th>Shape_Leng</th>\n",
       "      <th>Shape_Area</th>\n",
       "      <th>zone</th>\n",
       "      <th>LocationID</th>\n",
       "      <th>borough</th>\n",
       "      <th>geometry</th>\n",
       "    </tr>\n",
       "  </thead>\n",
       "  <tbody>\n",
       "  </tbody>\n",
       "</table>\n",
       "</div>"
      ],
      "text/plain": [
       "Empty GeoDataFrame\n",
       "Columns: [OBJECTID, Shape_Leng, Shape_Area, zone, LocationID, borough, geometry]\n",
       "Index: []"
      ]
     },
     "execution_count": 22,
     "metadata": {},
     "output_type": "execute_result"
    }
   ],
   "source": [
    "# %%\n",
    "\n",
    "taxi_zones[taxi_zones.LocationID == 265]  # no data retrieved, seems we have to drop the empty data"
   ]
  },
  {
   "cell_type": "code",
   "execution_count": null,
   "id": "776bbc65-c2fa-4a3a-861e-e35dcba58f1f",
   "metadata": {},
   "outputs": [],
   "source": [
    "# %%\n",
    "\n",
    "taxi_zone_lookup.dropna(inplace=True)\n",
    "taxi_zones.dropna(inplace=True)"
   ]
  },
  {
   "cell_type": "code",
   "execution_count": null,
   "id": "68cf709b-890e-40b4-9ee4-8c3d83b705ce",
   "metadata": {},
   "outputs": [],
   "source": [
    "# %%\n",
    "\n",
    "fhvhv_tripdata_2021_01.drop_duplicates(inplace=True)\n",
    "nyc_weather_2021.drop_duplicates(inplace=True)\n",
    "taxi_zone_lookup.drop_duplicates(inplace=True)\n",
    "taxi_zones.drop_duplicates(inplace=True)"
   ]
  },
  {
   "cell_type": "code",
   "execution_count": null,
   "id": "c8343bbe-0269-4e6c-827d-f9753633b53d",
   "metadata": {},
   "outputs": [],
   "source": [
    "# %%\n",
    "\n",
    "fhvhv_tripdata_2021_01.drop_duplicates(inplace=True)\n",
    "nyc_weather_2021.drop_duplicates(inplace=True)\n",
    "taxi_zone_lookup.drop_duplicates(inplace=True)\n",
    "taxi_zones.drop_duplicates(inplace=True)"
   ]
  },
  {
   "cell_type": "code",
   "execution_count": null,
   "id": "7fd903ad-51ca-44d8-bfec-98d463239634",
   "metadata": {},
   "outputs": [
    {
     "data": {
      "text/plain": [
       "<Axes: >"
      ]
     },
     "execution_count": 26,
     "metadata": {},
     "output_type": "execute_result"
    },
    {
     "data": {
      "image/png": "[encoded data removed]",
      "text/plain": [
       "<Figure size 640x480 with 1 Axes>"
      ]
     },
     "metadata": {},
     "output_type": "display_data"
    }
   ],
   "source": [
    "# %%\n",
    "\n",
    "# do we still need to find and filter outliers for this project? suppose all the data collected well\n",
    "trip_data_outliers = fhvhv_tripdata_2021_01[['trip_miles', 'trip_time', 'base_passenger_fare', 'tolls', 'bcf',\n",
    "                                             'sales_tax', 'congestion_surcharge', 'airport_fee', 'tips',\n",
    "                                             'driver_pay']].boxplot(rot=90)\n",
    "\n",
    "trip_data_outliers\n",
    "# Image.open(\"img/trip_data_outliers.png\")"
   ]
  },
  {
   "cell_type": "code",
   "execution_count": null,
   "id": "90569442-0409-469c-8ff2-64e7692ed4c2",
   "metadata": {},
   "outputs": [
    {
     "data": {
      "text/plain": [
       "<Axes: >"
      ]
     },
     "execution_count": 27,
     "metadata": {},
     "output_type": "execute_result"
    }
   ],
   "source": [
    "# %%\n",
    "\n",
    "trip_locations = fhvhv_tripdata_2021_01[['PULocationID', 'DOLocationID']].boxplot()\n",
    "# trip_locations.figure.savefig(\"img/trip_loc_distribution.png\",bbox_inches=\"tight\")\n",
    "trip_locations\n",
    "# Image.open(\"img/trip_loc_distribution.png\")"
   ]
  },
  {
   "cell_type": "code",
   "execution_count": null,
   "id": "a7cddb39-05ad-4107-a5dc-bb7b04c888d6",
   "metadata": {},
   "outputs": [],
   "source": [
    "# %%\n",
    "\n",
    "## warning: takes about 20 secs\n",
    "# Filter the data according to our need\n",
    "# All pickup (originate) locations in Jan,2021\n",
    "# All drop-off (destination) locations in Jan,2021\n",
    "# now seperate the data based on day (6:00-18:00) and night (18:00-6:00)\n",
    "day_start = time(6, 0, 0)\n",
    "day_end = time(18, 0, 0)\n",
    "# locations in day time\n",
    "tripdata_2021_01_src_day = fhvhv_tripdata_2021_01.loc[\n",
    "    (fhvhv_tripdata_2021_01['pickup_datetime'].dt.time >= day_start) & (\n",
    "                fhvhv_tripdata_2021_01['pickup_datetime'].dt.time <= day_end)]\n",
    "tripdata_2021_01_dst_day = fhvhv_tripdata_2021_01.loc[\n",
    "    (fhvhv_tripdata_2021_01['dropoff_datetime'].dt.time >= day_start) & (\n",
    "                fhvhv_tripdata_2021_01['dropoff_datetime'].dt.time <= day_end)]\n",
    "# locations in night\n",
    "tripdata_2021_01_src_night = fhvhv_tripdata_2021_01.loc[\n",
    "    (fhvhv_tripdata_2021_01['pickup_datetime'].dt.time < day_start) | (\n",
    "                fhvhv_tripdata_2021_01['pickup_datetime'].dt.time > day_end)]\n",
    "tripdata_2021_01_dst_night = fhvhv_tripdata_2021_01.loc[\n",
    "    (fhvhv_tripdata_2021_01['dropoff_datetime'].dt.time < day_start) | (\n",
    "                fhvhv_tripdata_2021_01['dropoff_datetime'].dt.time > day_end)]"
   ]
  },
  {
   "cell_type": "markdown",
   "id": "89c4b6b2-6d05-438c-98dc-07fde2eb60ec",
   "metadata": {},
   "source": [
    "# %% [markdown]\n",
    "\n",
    " ### Geospatial Analysis"
   ]
  },
  {
   "cell_type": "code",
   "execution_count": null,
   "id": "18dda3f3-7ac0-4bd6-be48-51634e50b5c1",
   "metadata": {},
   "outputs": [],
   "source": [
    "# %%\n",
    "\n",
    "taxi_zones = taxi_zones.to_crs(2263)\n",
    "taxi_zones['centroid'] = taxi_zones.centroid"
   ]
  },
  {
   "cell_type": "code",
   "execution_count": null,
   "id": "bf0cb315-73b6-4b6e-b014-a6083a47e949",
   "metadata": {},
   "outputs": [
    {
     "data": {
      "text/html": [
       "<div>\n",
       "<style scoped>\n",
       "    .dataframe tbody tr th:only-of-type {\n",
       "        vertical-align: middle;\n",
       "    }\n",
       "\n",
       "    .dataframe tbody tr th {\n",
       "        vertical-align: top;\n",
       "    }\n",
       "\n",
       "    .dataframe thead th {\n",
       "        text-align: right;\n",
       "    }\n",
       "</style>\n",
       "<table border=\"1\" class=\"dataframe\">\n",
       "  <thead>\n",
       "    <tr style=\"text-align: right;\">\n",
       "      <th></th>\n",
       "      <th>OBJECTID</th>\n",
       "      <th>Shape_Leng</th>\n",
       "      <th>Shape_Area</th>\n",
       "      <th>zone</th>\n",
       "      <th>LocationID</th>\n",
       "      <th>borough</th>\n",
       "      <th>geometry</th>\n",
       "      <th>centroid</th>\n",
       "    </tr>\n",
       "  </thead>\n",
       "  <tbody>\n",
       "    <tr>\n",
       "      <th>0</th>\n",
       "      <td>1</td>\n",
       "      <td>0.116357</td>\n",
       "      <td>0.000782</td>\n",
       "      <td>Newark Airport</td>\n",
       "      <td>1</td>\n",
       "      <td>EWR</td>\n",
       "      <td>POLYGON ((-74.18445 40.695, -74.18449 40.6951,...</td>\n",
       "      <td>POINT (-74.174 40.69183)</td>\n",
       "    </tr>\n",
       "    <tr>\n",
       "      <th>1</th>\n",
       "      <td>2</td>\n",
       "      <td>0.433470</td>\n",
       "      <td>0.004866</td>\n",
       "      <td>Jamaica Bay</td>\n",
       "      <td>2</td>\n",
       "      <td>Queens</td>\n",
       "      <td>MULTIPOLYGON (((-73.82338 40.63899, -73.82277 ...</td>\n",
       "      <td>POINT (-73.8313 40.61675)</td>\n",
       "    </tr>\n",
       "    <tr>\n",
       "      <th>2</th>\n",
       "      <td>3</td>\n",
       "      <td>0.084341</td>\n",
       "      <td>0.000314</td>\n",
       "      <td>Allerton/Pelham Gardens</td>\n",
       "      <td>3</td>\n",
       "      <td>Bronx</td>\n",
       "      <td>POLYGON ((-73.84793 40.87134, -73.84725 40.870...</td>\n",
       "      <td>POINT (-73.84742 40.86447)</td>\n",
       "    </tr>\n",
       "    <tr>\n",
       "      <th>3</th>\n",
       "      <td>4</td>\n",
       "      <td>0.043567</td>\n",
       "      <td>0.000112</td>\n",
       "      <td>Alphabet City</td>\n",
       "      <td>4</td>\n",
       "      <td>Manhattan</td>\n",
       "      <td>POLYGON ((-73.97177 40.72582, -73.97179 40.725...</td>\n",
       "      <td>POINT (-73.97697 40.72375)</td>\n",
       "    </tr>\n",
       "    <tr>\n",
       "      <th>4</th>\n",
       "      <td>5</td>\n",
       "      <td>0.092146</td>\n",
       "      <td>0.000498</td>\n",
       "      <td>Arden Heights</td>\n",
       "      <td>5</td>\n",
       "      <td>Staten Island</td>\n",
       "      <td>POLYGON ((-74.17422 40.56257, -74.17349 40.562...</td>\n",
       "      <td>POINT (-74.18848 40.55266)</td>\n",
       "    </tr>\n",
       "  </tbody>\n",
       "</table>\n",
       "</div>"
      ],
      "text/plain": [
       "   OBJECTID  Shape_Leng  Shape_Area                     zone  LocationID  \\\n",
       "0         1    0.116357    0.000782           Newark Airport           1   \n",
       "1         2    0.433470    0.004866              Jamaica Bay           2   \n",
       "2         3    0.084341    0.000314  Allerton/Pelham Gardens           3   \n",
       "3         4    0.043567    0.000112            Alphabet City           4   \n",
       "4         5    0.092146    0.000498            Arden Heights           5   \n",
       "\n",
       "         borough                                           geometry  \\\n",
       "0            EWR  POLYGON ((-74.18445 40.695, -74.18449 40.6951,...   \n",
       "1         Queens  MULTIPOLYGON (((-73.82338 40.63899, -73.82277 ...   \n",
       "2          Bronx  POLYGON ((-73.84793 40.87134, -73.84725 40.870...   \n",
       "3      Manhattan  POLYGON ((-73.97177 40.72582, -73.97179 40.725...   \n",
       "4  Staten Island  POLYGON ((-74.17422 40.56257, -74.17349 40.562...   \n",
       "\n",
       "                     centroid  \n",
       "0    POINT (-74.174 40.69183)  \n",
       "1   POINT (-73.8313 40.61675)  \n",
       "2  POINT (-73.84742 40.86447)  \n",
       "3  POINT (-73.97697 40.72375)  \n",
       "4  POINT (-74.18848 40.55266)  "
      ]
     },
     "execution_count": 30,
     "metadata": {},
     "output_type": "execute_result"
    }
   ],
   "source": [
    "# %%\n",
    "\n",
    "taxi_zones = taxi_zones.to_crs(epsg=4326)  # project the centroids' locations to another coordinate system\n",
    "taxi_zones['centroid'] = taxi_zones['centroid'].to_crs(epsg=4326)\n",
    "taxi_zones.head()"
   ]
  },
  {
   "cell_type": "code",
   "execution_count": null,
   "id": "152c1a28-39cc-452f-a109-a34062ba244e",
   "metadata": {},
   "outputs": [
    {
     "ename": "ValueError",
     "evalue": "Custom tiles must have an attribution.",
     "output_type": "error",
     "traceback": [
      "\u001b[1;31m---------------------------------------------------------------------------\u001b[0m",
      "\u001b[1;31mValueError\u001b[0m                                Traceback (most recent call last)",
      "File \u001b[1;32mc:\\Users\\tosha\\OneDrive\\Документы\\SPBPU\\BIG_DATA\\NYC_TAXI\\TripAnalysis.py:2\u001b[0m\n\u001b[0;32m      1\u001b[0m \u001b[39m# %%\u001b[39;00m\n\u001b[1;32m----> 2\u001b[0m m1 \u001b[39m=\u001b[39m folium\u001b[39m.\u001b[39;49mMap(location\u001b[39m=\u001b[39;49m[\u001b[39m40.70\u001b[39;49m, \u001b[39m-\u001b[39;49m\u001b[39m73.94\u001b[39;49m], zoom_start\u001b[39m=\u001b[39;49m\u001b[39m12\u001b[39;49m, tiles\u001b[39m=\u001b[39;49m\u001b[39m\"\u001b[39;49m\u001b[39mStamen Toner\u001b[39;49m\u001b[39m\"\u001b[39;49m)\n\u001b[0;32m      4\u001b[0m \u001b[39m# add centroid marker to each taxi zones\u001b[39;00m\n\u001b[0;32m      5\u001b[0m latitudes \u001b[39m=\u001b[39m []\n",
      "File \u001b[1;32mc:\\Users\\tosha\\OneDrive\\Документы\\SPBPU\\BIG_DATA\\NYC_TAXI\\venv\\Lib\\site-packages\\folium\\folium.py:322\u001b[0m, in \u001b[0;36mMap.__init__\u001b[1;34m(self, location, width, height, left, top, position, tiles, attr, min_zoom, max_zoom, zoom_start, min_lat, max_lat, min_lon, max_lon, max_bounds, crs, control_scale, prefer_canvas, no_touch, disable_3d, png_enabled, zoom_control, font_size, **kwargs)\u001b[0m\n\u001b[0;32m    320\u001b[0m     \u001b[39mself\u001b[39m\u001b[39m.\u001b[39madd_child(tiles)\n\u001b[0;32m    321\u001b[0m \u001b[39melif\u001b[39;00m tiles:\n\u001b[1;32m--> 322\u001b[0m     tile_layer \u001b[39m=\u001b[39m TileLayer(\n\u001b[0;32m    323\u001b[0m         tiles\u001b[39m=\u001b[39;49mtiles, attr\u001b[39m=\u001b[39;49mattr, min_zoom\u001b[39m=\u001b[39;49mmin_zoom, max_zoom\u001b[39m=\u001b[39;49mmax_zoom\n\u001b[0;32m    324\u001b[0m     )\n\u001b[0;32m    325\u001b[0m     \u001b[39mself\u001b[39m\u001b[39m.\u001b[39madd_child(tile_layer, name\u001b[39m=\u001b[39mtile_layer\u001b[39m.\u001b[39mtile_name)\n",
      "File \u001b[1;32mc:\\Users\\tosha\\OneDrive\\Документы\\SPBPU\\BIG_DATA\\NYC_TAXI\\venv\\Lib\\site-packages\\folium\\raster_layers.py:141\u001b[0m, in \u001b[0;36mTileLayer.__init__\u001b[1;34m(self, tiles, min_zoom, max_zoom, max_native_zoom, attr, detect_retina, name, overlay, control, show, no_wrap, subdomains, tms, opacity, **kwargs)\u001b[0m\n\u001b[0;32m    139\u001b[0m \u001b[39mself\u001b[39m\u001b[39m.\u001b[39mtiles \u001b[39m=\u001b[39m tiles\n\u001b[0;32m    140\u001b[0m \u001b[39mif\u001b[39;00m \u001b[39mnot\u001b[39;00m attr:\n\u001b[1;32m--> 141\u001b[0m     \u001b[39mraise\u001b[39;00m \u001b[39mValueError\u001b[39;00m(\u001b[39m\"\u001b[39m\u001b[39mCustom tiles must have an attribution.\u001b[39m\u001b[39m\"\u001b[39m)\n\u001b[0;32m    143\u001b[0m \u001b[39mself\u001b[39m\u001b[39m.\u001b[39moptions \u001b[39m=\u001b[39m remove_empty(\n\u001b[0;32m    144\u001b[0m     min_zoom\u001b[39m=\u001b[39mmin_zoom \u001b[39mor\u001b[39;00m \u001b[39m0\u001b[39m,\n\u001b[0;32m    145\u001b[0m     max_zoom\u001b[39m=\u001b[39mmax_zoom \u001b[39mor\u001b[39;00m \u001b[39m18\u001b[39m,\n\u001b[1;32m   (...)\u001b[0m\n\u001b[0;32m    153\u001b[0m     \u001b[39m*\u001b[39m\u001b[39m*\u001b[39mkwargs,\n\u001b[0;32m    154\u001b[0m )\n",
      "\u001b[1;31mValueError\u001b[0m: Custom tiles must have an attribution."
     ]
    }
   ],
   "source": [
    "# %%\n",
    "\n",
    "m1 = folium.Map(location=[40.70, -73.94], zoom_start=12, tiles=\"Stamen Toner\")\n",
    "\n",
    "# add centroid marker to each taxi zones\n",
    "latitudes = []\n",
    "longitudes = []\n",
    "# markers_group = folium.FeatureGroup(name='Taxi Zones Centroids')\n",
    "for _, r in taxi_zones.iterrows():\n",
    "    lat = r['centroid'].y\n",
    "    latitudes.append(lat)\n",
    "    lon = r['centroid'].x\n",
    "    longitudes.append(lon)\n",
    "    folium.Marker(location=[lat, lon],\n",
    "                  popup='LocationID:{}<br>Zone:{}<br>Borough:{}'.format(r['LocationID'], r['zone'], r['borough']),\n",
    "                  icon=folium.Icon(icon='info-sign')).add_to(m1)\n",
    "\n",
    "# project geometries on the map to locate precise regions of taxi zones\n",
    "for _, r in taxi_zones.iterrows():\n",
    "    sim_geo = gpd.GeoSeries(r['geometry']).simplify(tolerance=0.0001)\n",
    "    geo_j = sim_geo.to_json()\n",
    "    geo_j = folium.GeoJson(data=geo_j, style_function=lambda x: {'fillColor': 'green'})\n",
    "    folium.Popup(r['zone']).add_to(geo_j)\n",
    "    geo_j.add_to(m1)\n",
    "\n",
    "# markers_group.add_to(m)\n",
    "taxi_zones['c_latitude'] = latitudes\n",
    "taxi_zones['c_longitude'] = longitudes\n",
    "# m1.save('maps/taxi_zones.html') # save as html\n",
    "m1"
   ]
  }
 ],
 "metadata": {
  "language_info": {
   "codemirror_mode": {
    "name": "ipython",
    "version": 3
   },
   "file_extension": ".py",
   "mimetype": "text/x-python",
   "name": "python",
   "nbconvert_exporter": "python",
   "pygments_lexer": "ipython3",
   "version": 3
  }
 },
 "nbformat": 4,
 "nbformat_minor": 2
}
